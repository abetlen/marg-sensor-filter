{
 "cells": [
  {
   "cell_type": "markdown",
   "metadata": {},
   "source": [
    "# Implementing an Orientation Filter in Python using Sympy"
   ]
  },
  {
   "cell_type": "code",
   "execution_count": 9,
   "metadata": {
    "collapsed": false
   },
   "outputs": [],
   "source": [
    "from sympy import *\n",
    "from sympy.utilities.codegen import codegen\n",
    "init_printing(use_latex=\"mathjax\")"
   ]
  },
  {
   "cell_type": "markdown",
   "metadata": {},
   "source": [
    "## Introduction\n",
    "\n",
    "In this notebook we'll implement a simple orientation filter for a MARG sensor, explaining some of the theory along the way, doing it all in python using the awesome Sympy library. Finally we'll use sympy's codegen utility to generate c code so our filter can be compiled to run on virtually any microcontroller.\n",
    "\n",
    "## Overview\n",
    "\n",
    "Let's say you want to determine the orientation of some object using a\n",
    "MARG sensor. These sensors are equipped to measure acceleration,\n",
    "angular rate, and the magnetic field around them. So how do you\n",
    "actually turn these readings into an orientation, and how do you use\n",
    "prior state estimates and sensor fusion to filter out noise? \n",
    "\n",
    "Using just the acceleration and magnetic field reading we can\n",
    "determine the orientation of a static body fairly accurately. To do\n",
    "this we imagine our sensor aligned with the earth, what kind of\n",
    "readings would we expect to see? In that scenario our acceleration\n",
    "would be equal to the gravitational acceleration, and the magnetic\n",
    "field would be pointed north (and slightly into the earth). Using an\n",
    "iterative algorithm, like gradient descent, we find the orientation\n",
    "that best aligns the sensor-frame readings with what we'd expect to\n",
    "see in the earth-frame.\n",
    "\n",
    "That's simple enough but what if we start moving our sensor around?\n",
    "This introduces an applied acceleration and we can no longer rely on\n",
    "those two readings to determine orientation. What about the angular\n",
    "rate? If we could simply fuse that reading with our previously\n",
    "estimated orientation, surely we could get a more accurate final\n",
    "estimate. How we actually go about doing this is dependent on the\n",
    "filter we choose to implement, luckily there are many solutions to\n",
    "this problem including Kalman Filters (UKF or EKF), the Complementary\n",
    "Filter, etc. We'll be implementing the filter described by S. Madgwick\n",
    "[here](http://www.x-io.co.uk/res/doc/madgwick_internal_report.pdf), as\n",
    "it's simple to understand and computationally less expensive than the\n",
    "alternatives.\n",
    "\n",
    "## Sensor Frame\n",
    "\n",
    "First thing's first, let's define the MARG readings for the sensor-frame. These are acceleration, angular rate, and the magnetic field. We'll also define the time between readings as it's necesarry for when we want to integrate the angular velocity later."
   ]
  },
  {
   "cell_type": "code",
   "execution_count": 16,
   "metadata": {
    "collapsed": false
   },
   "outputs": [],
   "source": [
    "a = Matrix(symbols('a_x, a_y, a_z')) # accelerometer reading\n",
    "m = Matrix(symbols('m_x, m_y, m_z')) # magnetomer reading\n",
    "w = Matrix(symbols('w_x, w_y, w_z')) # gyroscope reading\n",
    "\n",
    "dt = symbols('dt') # timestep"
   ]
  },
  {
   "cell_type": "markdown",
   "metadata": {},
   "source": [
    "## Earth Frame\n",
    "\n",
    "What about the Earth frame? Well let's define variables for the Earth's gravitational acceleration (in g's) and magnetic field as what we'd expect to see if the sensor was oriented with the Earth's reference frame."
   ]
  },
  {
   "cell_type": "code",
   "execution_count": 17,
   "metadata": {
    "collapsed": false
   },
   "outputs": [],
   "source": [
    "G = Matrix([0, 0, 1]) # Earth-frame gravitational acceleration\n",
    "\n",
    "bx, bz = symbols('b_x, b_z')\n",
    "B = Matrix([bx, 0, bz]) # Earth-frame magnetic field"
   ]
  },
  {
   "cell_type": "markdown",
   "metadata": {},
   "source": [
    "## Orientation and Quaternions\n",
    "\n",
    "We'll be using unit quaternons to represent orientation and rotations\n",
    "in 3 dimensional space. To do this we define a Quaternion class that\n",
    "extends a sympy Matrix with some helper functions:\n",
    "\n",
    "`Quaternion.fromRV`: A unit quaternion with real part $r$ and vector part $\\pmb{v}$.\n",
    "\n",
    "$$ \\pmb{q} = (r, \\pmb{v}) $$\n",
    "\n",
    "`Quaternion.conj`: The conjugate of a quaternion $ \\pmb{q} $:\n",
    "\n",
    "$$ \\pmb{q^*} = (r, - \\pmb{v}) $$\n",
    "\n",
    "`Quaternion.prod`: The product of two quaternions, $\\pmb{q_1}$ and $\\pmb{q_2}$:\n",
    "\n",
    "$$ \\pmb{q_1} \\otimes \\pmb{q_2} = (r_1, \\pmb{v_1})\\otimes(r_2, \\pmb{v_2}) = ( r_1 r_2 - \\pmb{v_1 v_2}, r_1 \\pmb{v_2} + r_2 \\pmb{v_1} + \\pmb{v_1}\n",
    "\\times \\pmb{v_2}) $$\n",
    "\n",
    "`Quaternion.rot`: And the rotation of a vector $\\pmb{W} = (0, \\pmb{w})$ by a quaternion $\\pmb{q}$:\n",
    "\n",
    "$$ \\pmb{W'} = \\pmb{q} \\otimes \\pmb{W} \\otimes \\pmb{q^*} $$"
   ]
  },
  {
   "cell_type": "code",
   "execution_count": 18,
   "metadata": {
    "collapsed": false
   },
   "outputs": [],
   "source": [
    "class Quaternion(Matrix):\n",
    "    @property\n",
    "    def r(self):\n",
    "        return self[0]\n",
    "    \n",
    "    @property\n",
    "    def v(self):\n",
    "        return self[1:,:]\n",
    "        \n",
    "    @classmethod\n",
    "    def fromRV(cls, r, v):\n",
    "        return Quaternion([r, v[0], v[1], v[2]])\n",
    "    \n",
    "    def conj(self):\n",
    "        return Quaternion.fromRV(self.r, -1 * self.v)\n",
    "\n",
    "    def prod(self, other):\n",
    "        return Quaternion.fromRV(self.r * other.r - self.v.dot(other.v),\n",
    "                                 self.r * other.v + other.r * self.v + self.v.cross(other.v))\n",
    "    \n",
    "    def rot(self, w):\n",
    "        W = Quaternion.fromRV(0, w)\n",
    "        return q.prod(W).prod(q.conj())[1:,:]"
   ]
  },
  {
   "cell_type": "markdown",
   "metadata": {},
   "source": [
    "## Gradient Descent\n",
    "\n",
    "As explained above, all our gradient descent algorithm does is\n",
    "minimize the error when rotating vectors from the sensor-frame to the\n",
    "earth-frame. Actually it's implemented backwards, but it's the same\n",
    "principle really. We're going to be using our two vectors in the\n",
    "earth-frame and rotating them into the sensor-frame by some best guess\n",
    "quaternion, and subtracting our expected vector. Then we'll compute\n",
    "the gradient of these residual functions and subtract that from our last best\n",
    "guess quaternion by some scaling factor. This process is repeated until a sufficient\n",
    "convergence is reached.\n",
    "\n",
    "To do this we must first define two residual functions $\\pmb{f_1}$ and $\\pmb{f_2}$, as well as some best guess quaternion $\\pmb{q}$\n",
    "\n",
    "\\begin{align}\n",
    "\\pmb{f_1} &= \\pmb{q^*} \\otimes \\pmb{\\hat G} \\otimes \\pmb{q} - \\pmb{a}\\\\\n",
    "\\pmb{f_2} &= \\pmb{q^*} \\otimes \\pmb{\\hat B} \\otimes \\pmb{q} - \\pmb{m}\n",
    "\\end{align}\n"
   ]
  },
  {
   "cell_type": "code",
   "execution_count": 19,
   "metadata": {
    "collapsed": true
   },
   "outputs": [],
   "source": [
    "q = Quaternion(symbols('q_0, q_1, q_2, q_3'))\n",
    "\n",
    "f_1 = q.conj().rot(G) - a # Earth-to-Sensor frame acceleration rotation error\n",
    "f_2 = q.conj().rot(B) - m # Earth-to-Sensor frame magnetic field rotation error"
   ]
  },
  {
   "cell_type": "markdown",
   "metadata": {},
   "source": [
    "Then at iteration $k$ we compute the error gradient\n",
    "$$ \\pmb{\\nabla F(q_k)} = \\pmb{J_1^T f_1} + \\pmb{J_2^T f_2} $$\n",
    "\n",
    "and subtract it from our prior prediction by some scaling factor $ \\alpha $.\n",
    "\n",
    "$$ \\pmb{q_{k+1}} = \\pmb{q_k} - \\alpha \\pmb{\\nabla F(q_k)} $$"
   ]
  },
  {
   "cell_type": "code",
   "execution_count": 20,
   "metadata": {
    "collapsed": true
   },
   "outputs": [],
   "source": [
    "J_1 = f_1.jacobian(q)\n",
    "J_2 = f_2.jacobian(q)\n",
    "\n",
    "fgrad = (J_1.T * f_1) + (J_2.T * f_2) # Error Gradient\n",
    "\n",
    "alpha = symbols('alpha') # Scaling Factor\n",
    "\n",
    "gd = q - alpha * fgrad # Gradient Descent"
   ]
  },
  {
   "cell_type": "markdown",
   "metadata": {},
   "source": [
    "## Sensor Fusion\n",
    "\n",
    "Compute the angular velocity from the angular rate\n",
    "\n",
    "$$ \\pmb{\\dot q_k} = \\frac{1}{2} \\pmb{q_{k,\\text{est}}} \\otimes \\pmb{\\hat w}$$\n",
    "\n",
    "\n",
    "Then estimate the angular velocity from the computed angular rate and the previous orientation estimate\n",
    "\n",
    "$$ \\pmb{\\dot q_{k+1,\\text{est}}} = \\pmb{\\dot q_k} - \\beta \\pmb{\\nabla F(q_{k,\\text{est}})} $$\n",
    "\n",
    "then integrate this over the change in time to get our new orientation estimate\n",
    "\n",
    "$$ \\pmb{q_{k+1,\\text{est}}} = \\pmb{q_{k,\\text{est}}} + \\pmb{\\dot q_{k,\\text{est}}}\\Delta t $$"
   ]
  },
  {
   "cell_type": "code",
   "execution_count": 21,
   "metadata": {
    "collapsed": false
   },
   "outputs": [],
   "source": [
    "beta = symbols('beta')\n",
    "\n",
    "# angular rate to angular velocity\n",
    "dq = 0.5 * q.prod(Quaternion.fromRV(0, w))\n",
    "\n",
    "dq_est = dq - beta * fgrad\n",
    "\n",
    "q_est = q + dq_est * dt"
   ]
  },
  {
   "cell_type": "markdown",
   "metadata": {},
   "source": [
    "## Code Generation\n",
    "\n",
    "Auto-generating c code from the above sympy equations is as easy as calling codegen with the right arguments.\n",
    "The codegen module is described in detail [here](http://docs.sympy.org/dev/modules/utilities/codegen.html)"
   ]
  },
  {
   "cell_type": "code",
   "execution_count": 22,
   "metadata": {
    "collapsed": false
   },
   "outputs": [],
   "source": [
    "prefix = \"autogen\"\n",
    "project = \"imu\"\n",
    "\n",
    "funcs =  [\n",
    "    (\"gradient_descent\", gd),\n",
    "    (\"madgwick\", q_est)\n",
    "]\n",
    "\n",
    "[(_, c_code), (_, h_code)] = codegen(funcs,\n",
    "                                    language=\"C\",\n",
    "                                    prefix=prefix,\n",
    "                                    project=project,\n",
    "                                    header=True,\n",
    "                                    empty=True)\n",
    "\n",
    "codegen(funcs,\n",
    "        language=\"C\",\n",
    "        to_files=True,\n",
    "        prefix=prefix,\n",
    "        project=project,\n",
    "        header=True,\n",
    "        empty=True)"
   ]
  }
 ],
 "metadata": {
  "kernelspec": {
   "display_name": "Python 3",
   "language": "python",
   "name": "python3"
  },
  "language_info": {
   "codemirror_mode": {
    "name": "ipython",
    "version": 3
   },
   "file_extension": ".py",
   "mimetype": "text/x-python",
   "name": "python",
   "nbconvert_exporter": "python",
   "pygments_lexer": "ipython3",
   "version": "3.4.3"
  }
 },
 "nbformat": 4,
 "nbformat_minor": 0
}
